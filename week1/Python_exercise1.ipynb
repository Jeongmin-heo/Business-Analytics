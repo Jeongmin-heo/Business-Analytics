{
  "nbformat": 4,
  "nbformat_minor": 0,
  "metadata": {
    "colab": {
      "name": "Python_exercise1.ipynb",
      "provenance": [],
      "collapsed_sections": [],
      "toc_visible": true,
      "mount_file_id": "1-4hcwprGyP59jB85SZRJFZGBKNmjYIQD",
      "authorship_tag": "ABX9TyOFTqfmdv19Xqxeok+waGkH"
    },
    "kernelspec": {
      "name": "python3",
      "display_name": "Python 3"
    }
  },
  "cells": [
    {
      "cell_type": "markdown",
      "metadata": {
        "id": "cpodG0ezCAnf",
        "colab_type": "text"
      },
      "source": [
        "# 파이썬 스타일 코드1 - 연습해보기\n",
        "\n",
        "## 일반문제\n"
      ]
    },
    {
      "cell_type": "markdown",
      "metadata": {
        "id": "gkDlavjobsYL",
        "colab_type": "text"
      },
      "source": [
        "###1. Css Selector 수정\n",
        "Css Selector는 웹 페이지에서 특정 요소를 선택하기 위해 해당 요소까지 찾아갈 수 있도록 해주는 주소와 같은 것이다. 대부분의 웹브라우져에서 는 해당 요소에 대한 css selector 값을 쉽게 얻어올 수 있다 (F12 > Select an Element). 다음과 같은 selector가 있다고 한다."
      ]
    },
    {
      "cell_type": "code",
      "metadata": {
        "id": "61D6XHxnCCWc",
        "colab_type": "code",
        "colab": {
          "base_uri": "https://localhost:8080/",
          "height": 35
        },
        "outputId": "9c287df8-37d6-4a4e-c994-d112d4f814ef"
      },
      "source": [
        "selector = \"#today_main_news > div.hdline_news > ul > li:nth-child(1)\" #selector라는 이름으로 요소를 정의\n",
        "selector_list = selector.split(\">\") #\">\"를 기준으로 구분자를 만들어 split\n",
        "selector_list[-1] = selector_list[-1].split(\":\")[0] # :를 기준으로 split 이후에 이전 까지만 출력\n",
        "\n",
        "\" > \".join(selector_list) # \">\"와 함께 join"
      ],
      "execution_count": null,
      "outputs": [
        {
          "output_type": "execute_result",
          "data": {
            "application/vnd.google.colaboratory.intrinsic+json": {
              "type": "string"
            },
            "text/plain": [
              "'#today_main_news  >  div.hdline_news  >  ul  >  li'"
            ]
          },
          "metadata": {
            "tags": []
          },
          "execution_count": 1
        }
      ]
    },
    {
      "cell_type": "markdown",
      "metadata": {
        "id": "LIl3XFuFIrwK",
        "colab_type": "text"
      },
      "source": [
        "### 2. list comprehension으로 만드는 구구단\n"
      ]
    },
    {
      "cell_type": "code",
      "metadata": {
        "id": "E5TXEbslCoi1",
        "colab_type": "code",
        "colab": {
          "base_uri": "https://localhost:8080/",
          "height": 170
        },
        "outputId": "16bde7cf-6e87-4a34-852b-7c2a0f68f373"
      },
      "source": [
        "def gugu_com(x=2): #함수 정의\n",
        "  [print(f\"{x} x {i} = {x*i}\") for i in range(1, 10)]\n",
        "# 1~9까지 반복적으로 i에 삽입하여 x와 곱셈하여 print 하는 함수 작성\n",
        "gugu_com(2) #출력"
      ],
      "execution_count": null,
      "outputs": [
        {
          "output_type": "stream",
          "text": [
            "2 x 1 = 2\n",
            "2 x 2 = 4\n",
            "2 x 3 = 6\n",
            "2 x 4 = 8\n",
            "2 x 5 = 10\n",
            "2 x 6 = 12\n",
            "2 x 7 = 14\n",
            "2 x 8 = 16\n",
            "2 x 9 = 18\n"
          ],
          "name": "stdout"
        }
      ]
    },
    {
      "cell_type": "markdown",
      "metadata": {
        "id": "ysCgUZ_hKb65",
        "colab_type": "text"
      },
      "source": [
        "### 3. 두 주사위의 곱"
      ]
    },
    {
      "cell_type": "code",
      "metadata": {
        "id": "vZAAatbmKU1z",
        "colab_type": "code",
        "colab": {
          "base_uri": "https://localhost:8080/",
          "height": 119
        },
        "outputId": "8c6c9d81-cdb9-411e-aa01-a27ed362dc40"
      },
      "source": [
        "die = [i for i in range(1,7)] #die=1~6\n",
        "\n",
        "[[j*i for i in die] for j in die] #1~6 순서대로 1~6을 곱셈하여 결과를 출력 (list comprehension * list comprehension)"
      ],
      "execution_count": null,
      "outputs": [
        {
          "output_type": "execute_result",
          "data": {
            "text/plain": [
              "[[1, 2, 3, 4, 5, 6],\n",
              " [2, 4, 6, 8, 10, 12],\n",
              " [3, 6, 9, 12, 15, 18],\n",
              " [4, 8, 12, 16, 20, 24],\n",
              " [5, 10, 15, 20, 25, 30],\n",
              " [6, 12, 18, 24, 30, 36]]"
            ]
          },
          "metadata": {
            "tags": []
          },
          "execution_count": 5
        }
      ]
    },
    {
      "cell_type": "markdown",
      "metadata": {
        "id": "tn8C0q5IKikY",
        "colab_type": "text"
      },
      "source": [
        "### 4. 두 주사위의 합\n",
        "간단한 테이블 형태의 데이터를 2차원 리스트로 표현해보자. 2개의 주사위를 굴리면 다음 표와 같이 36가지의 결과가 나온다."
      ]
    },
    {
      "cell_type": "code",
      "metadata": {
        "id": "Uy4PmfiRKhCi",
        "colab_type": "code",
        "colab": {
          "base_uri": "https://localhost:8080/",
          "height": 51
        },
        "outputId": "e4536617-33c1-494d-84d1-8103f80c8883"
      },
      "source": [
        "dice_sum = [[2, 3, 4, 5, 6, 7],\n",
        "            [3, 4, 5, 6, 7, 8],\n",
        "            [4, 5, 6, 7, 8, 9],\n",
        "            [5, 6, 7, 8, 9, 10],\n",
        "            [6, 7, 8, 9, 10, 11],\n",
        "            [7, 8, 9, 10, 11, 12]]\n",
        "# 모든 경우의 수 직접 작성\n",
        "print(dice_sum[1][5]) #2+6의 경우\n",
        "print(dice_sum[5][1]) #6+2의 경우"
      ],
      "execution_count": null,
      "outputs": [
        {
          "output_type": "stream",
          "text": [
            "8\n",
            "8\n"
          ],
          "name": "stdout"
        }
      ]
    },
    {
      "cell_type": "code",
      "metadata": {
        "id": "aM9Zca65L4Bx",
        "colab_type": "code",
        "colab": {
          "base_uri": "https://localhost:8080/",
          "height": 51
        },
        "outputId": "f809149d-c1d8-40bd-f6f0-0a763dc8b861"
      },
      "source": [
        "die = [i for i in range(1,7)] #die=1~6\n",
        "\n",
        "dice_sum = [[j+i for i in die] for j in die]\n",
        "#1~6 순서대로 1~6을 합하여 결과를 출력\n",
        "print(dice_sum[1][5]) #2+6의 경우\n",
        "print(dice_sum[5][1]) #6+2의 경우"
      ],
      "execution_count": null,
      "outputs": [
        {
          "output_type": "stream",
          "text": [
            "8\n",
            "8\n"
          ],
          "name": "stdout"
        }
      ]
    },
    {
      "cell_type": "markdown",
      "metadata": {
        "id": "k0lojaIjL9mj",
        "colab_type": "text"
      },
      "source": [
        "## 도전문제\n",
        "아주대학교 글로벌 경영학과의 한 교수님은 과제의 표절 검사를 쉽게 하기 위해 Python을 통한 간단한 표절 검사 프로그램을 작성해보고자 한다.\n",
        "\n",
        "현재 구상 중인 프로그램은 복잡한 알고리즘을 필요로하지 않고, 간단하게 단어 빈도를 기반으로 하여, 그 유사도를 측정하고자한다.\n",
        "\n",
        "\n"
      ]
    },
    {
      "cell_type": "markdown",
      "metadata": {
        "id": "UiYmzm0Cbnh3",
        "colab_type": "text"
      },
      "source": [
        "### 문제1\n",
        "Q: defaultdict를 활용하여 text를 입력받으면 단어별 빈도를 측정하여 반환하는 함수 word_counter를 만드시오."
      ]
    },
    {
      "cell_type": "code",
      "metadata": {
        "id": "LidUmy2QPI7P",
        "colab_type": "code",
        "colab": {}
      },
      "source": [
        "from collections import defaultdict, Counter\n",
        "\n",
        "text = \"\"\"Python is a very simple programming language so even if you are new to programming, you can learn python without facing any issues.\"\"\"\n",
        "\n",
        "text2 = \"\"\"C is a very difficult programming language so even if you are good at programming, you can learn c with facing any issues.\"\"\"\n",
        "\n",
        "text3 = \"\"\"R Programming is good at statistical analysis. you can learn easily\"\"\""
      ],
      "execution_count": null,
      "outputs": []
    },
    {
      "cell_type": "code",
      "metadata": {
        "id": "HCuXrnzYL6I-",
        "colab_type": "code",
        "colab": {}
      },
      "source": [
        "def word_counter(text):\n",
        "    word_count = defaultdict(lambda: 0)\n",
        "    for word in text.lower().split():\n",
        "        word_count[word] += 1\n",
        "        \n",
        "    return word_count\n",
        "#collections모듈의 defaultdict를 활용하여 0을 기본값으로 설정\n",
        "# text를 split하여 소문자로 변환하는 방식으로 반복, 후에 결과값인 word_count를 return"
      ],
      "execution_count": null,
      "outputs": []
    },
    {
      "cell_type": "code",
      "metadata": {
        "id": "sqyNlyjQMJce",
        "colab_type": "code",
        "colab": {
          "base_uri": "https://localhost:8080/",
          "height": 391
        },
        "outputId": "b259c9b1-4f66-4988-d1a0-f10a86869c60"
      },
      "source": [
        "word_counter(text)"
      ],
      "execution_count": null,
      "outputs": [
        {
          "output_type": "execute_result",
          "data": {
            "text/plain": [
              "defaultdict(<function __main__.word_counter.<locals>.<lambda>>,\n",
              "            {'a': 1,\n",
              "             'any': 1,\n",
              "             'are': 1,\n",
              "             'can': 1,\n",
              "             'even': 1,\n",
              "             'facing': 1,\n",
              "             'if': 1,\n",
              "             'is': 1,\n",
              "             'issues.': 1,\n",
              "             'language': 1,\n",
              "             'learn': 1,\n",
              "             'new': 1,\n",
              "             'programming': 1,\n",
              "             'programming,': 1,\n",
              "             'python': 2,\n",
              "             'simple': 1,\n",
              "             'so': 1,\n",
              "             'to': 1,\n",
              "             'very': 1,\n",
              "             'without': 1,\n",
              "             'you': 2})"
            ]
          },
          "metadata": {
            "tags": []
          },
          "execution_count": 19
        }
      ]
    },
    {
      "cell_type": "markdown",
      "metadata": {
        "id": "66f2U99MPRIn",
        "colab_type": "text"
      },
      "source": [
        "### 문제2\n",
        "Q: 도전문제 1의 word_counter 활용하여 text와 text2의 유사도와 text와 text3의 유사도를 구하시오."
      ]
    },
    {
      "cell_type": "code",
      "metadata": {
        "id": "aG1DSa8sMKHf",
        "colab_type": "code",
        "colab": {}
      },
      "source": [
        "def text_similarity(text_count_1, text_count_2):\n",
        "    text1_count = Counter(text_count_1)\n",
        "    text2_count = Counter(text_count_2)\n",
        "    \n",
        "    word_total = sum(text1_count.values())\n",
        "    word_diff = sum((text1_count - text2_count).values())\n",
        "    \n",
        "    return (1 - word_diff / word_total) * 100\n",
        "#collections모듈의 counter를 활용하여 dict의 연산을 통해 공통 단어의 수를 계산\n",
        "# 전체 단어에 대한 갯수를 합하여 유사도 확인"
      ],
      "execution_count": null,
      "outputs": []
    },
    {
      "cell_type": "code",
      "metadata": {
        "id": "CJWqdx1HPVQm",
        "colab_type": "code",
        "colab": {
          "base_uri": "https://localhost:8080/",
          "height": 51
        },
        "outputId": "7937cdb6-941d-48f5-d62c-dd3f509e0bd3"
      },
      "source": [
        "print(text_similarity(word_counter(text), word_counter(text2)))\n",
        "print(text_similarity(word_counter(text), word_counter(text3)))"
      ],
      "execution_count": 23,
      "outputs": [
        {
          "output_type": "stream",
          "text": [
            "73.91304347826086\n",
            "21.739130434782606\n"
          ],
          "name": "stdout"
        }
      ]
    }
  ]
}
