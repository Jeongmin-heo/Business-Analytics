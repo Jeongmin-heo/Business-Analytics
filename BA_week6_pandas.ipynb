{
  "nbformat": 4,
  "nbformat_minor": 0,
  "metadata": {
    "colab": {
      "name": "BA_week6_pandas.ipynb",
      "provenance": [],
      "authorship_tag": "ABX9TyPNlYXOTlmBUao17zJeOG1k"
    },
    "kernelspec": {
      "name": "python3",
      "display_name": "Python 3"
    }
  },
  "cells": [
    {
      "cell_type": "markdown",
      "metadata": {
        "id": "ohU-LhAkO268"
      },
      "source": [
        "# Pandas 기초연습문제\n",
        "\n",
        "\n"
      ]
    },
    {
      "cell_type": "code",
      "metadata": {
        "id": "GYs-GCpQ_DVv"
      },
      "source": [
        "import pandas as pd #padas를 import"
      ],
      "execution_count": 1,
      "outputs": []
    },
    {
      "cell_type": "markdown",
      "metadata": {
        "id": "sSVX0RJXO6tB"
      },
      "source": [
        "### 1. 딕셔너리를 이용하여 아래와 같은 모양이 되도록 data frame을 생성하시오.\n",
        "\n",
        "![image.png](data:image/png;base64,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)"
      ]
    },
    {
      "cell_type": "code",
      "metadata": {
        "id": "iXG8ndWNKWd-",
        "outputId": "6e7de01e-f575-49a6-ee36-46c2f4f26b7e",
        "colab": {
          "base_uri": "https://localhost:8080/",
          "height": 204
        }
      },
      "source": [
        "score={'학번':[201524213,201621223,201621233, 201611111, 201722222],\n",
        "       '이름':['오지환','박용택','정성훈', '다니엘', '지민'],\n",
        "       '학과':['경영정보','경영정보','경영정보','컴퓨터공학','컴퓨터공학'],\n",
        "       'Quiz':[15,20,10,17,18],\n",
        "       '중간고사':[20,20,15,18,16]}\n",
        "\n",
        "df= pd.DataFrame(score) #score 에 저장된 내용을 DataFrame으로 전환\n",
        "df"
      ],
      "execution_count": 2,
      "outputs": [
        {
          "output_type": "execute_result",
          "data": {
            "text/html": [
              "<div>\n",
              "<style scoped>\n",
              "    .dataframe tbody tr th:only-of-type {\n",
              "        vertical-align: middle;\n",
              "    }\n",
              "\n",
              "    .dataframe tbody tr th {\n",
              "        vertical-align: top;\n",
              "    }\n",
              "\n",
              "    .dataframe thead th {\n",
              "        text-align: right;\n",
              "    }\n",
              "</style>\n",
              "<table border=\"1\" class=\"dataframe\">\n",
              "  <thead>\n",
              "    <tr style=\"text-align: right;\">\n",
              "      <th></th>\n",
              "      <th>학번</th>\n",
              "      <th>이름</th>\n",
              "      <th>학과</th>\n",
              "      <th>Quiz</th>\n",
              "      <th>중간고사</th>\n",
              "    </tr>\n",
              "  </thead>\n",
              "  <tbody>\n",
              "    <tr>\n",
              "      <th>0</th>\n",
              "      <td>201524213</td>\n",
              "      <td>오지환</td>\n",
              "      <td>경영정보</td>\n",
              "      <td>15</td>\n",
              "      <td>20</td>\n",
              "    </tr>\n",
              "    <tr>\n",
              "      <th>1</th>\n",
              "      <td>201621223</td>\n",
              "      <td>박용택</td>\n",
              "      <td>경영정보</td>\n",
              "      <td>20</td>\n",
              "      <td>20</td>\n",
              "    </tr>\n",
              "    <tr>\n",
              "      <th>2</th>\n",
              "      <td>201621233</td>\n",
              "      <td>정성훈</td>\n",
              "      <td>경영정보</td>\n",
              "      <td>10</td>\n",
              "      <td>15</td>\n",
              "    </tr>\n",
              "    <tr>\n",
              "      <th>3</th>\n",
              "      <td>201611111</td>\n",
              "      <td>다니엘</td>\n",
              "      <td>컴퓨터공학</td>\n",
              "      <td>17</td>\n",
              "      <td>18</td>\n",
              "    </tr>\n",
              "    <tr>\n",
              "      <th>4</th>\n",
              "      <td>201722222</td>\n",
              "      <td>지민</td>\n",
              "      <td>컴퓨터공학</td>\n",
              "      <td>18</td>\n",
              "      <td>16</td>\n",
              "    </tr>\n",
              "  </tbody>\n",
              "</table>\n",
              "</div>"
            ],
            "text/plain": [
              "          학번   이름     학과  Quiz  중간고사\n",
              "0  201524213  오지환   경영정보    15    20\n",
              "1  201621223  박용택   경영정보    20    20\n",
              "2  201621233  정성훈   경영정보    10    15\n",
              "3  201611111  다니엘  컴퓨터공학    17    18\n",
              "4  201722222   지민  컴퓨터공학    18    16"
            ]
          },
          "metadata": {
            "tags": []
          },
          "execution_count": 2
        }
      ]
    },
    {
      "cell_type": "code",
      "metadata": {
        "id": "woOLklfrOqAj",
        "outputId": "95632168-2f61-4bb8-922d-381106bf7932",
        "colab": {
          "base_uri": "https://localhost:8080/",
          "height": 119
        }
      },
      "source": [
        "df['학번'] #학번 컬럼을 불러옴\n"
      ],
      "execution_count": 3,
      "outputs": [
        {
          "output_type": "execute_result",
          "data": {
            "text/plain": [
              "0    201524213\n",
              "1    201621223\n",
              "2    201621233\n",
              "3    201611111\n",
              "4    201722222\n",
              "Name: 학번, dtype: int64"
            ]
          },
          "metadata": {
            "tags": []
          },
          "execution_count": 3
        }
      ]
    },
    {
      "cell_type": "markdown",
      "metadata": {
        "id": "ry1mQAUFPByb"
      },
      "source": [
        "### 2. 위에서 생성한 데이터프레임으로부터 인덱싱을 이용하여 이름과 중간고사를 추출하시오.\n"
      ]
    },
    {
      "cell_type": "code",
      "metadata": {
        "id": "m2q6i38uOqPi",
        "outputId": "a7a96d97-c10d-402d-cbab-b5377067b1bf",
        "colab": {
          "base_uri": "https://localhost:8080/",
          "height": 204
        }
      },
      "source": [
        "df[['이름', '중간고사']] #인덱싱으로 접근\n"
      ],
      "execution_count": 4,
      "outputs": [
        {
          "output_type": "execute_result",
          "data": {
            "text/html": [
              "<div>\n",
              "<style scoped>\n",
              "    .dataframe tbody tr th:only-of-type {\n",
              "        vertical-align: middle;\n",
              "    }\n",
              "\n",
              "    .dataframe tbody tr th {\n",
              "        vertical-align: top;\n",
              "    }\n",
              "\n",
              "    .dataframe thead th {\n",
              "        text-align: right;\n",
              "    }\n",
              "</style>\n",
              "<table border=\"1\" class=\"dataframe\">\n",
              "  <thead>\n",
              "    <tr style=\"text-align: right;\">\n",
              "      <th></th>\n",
              "      <th>이름</th>\n",
              "      <th>중간고사</th>\n",
              "    </tr>\n",
              "  </thead>\n",
              "  <tbody>\n",
              "    <tr>\n",
              "      <th>0</th>\n",
              "      <td>오지환</td>\n",
              "      <td>20</td>\n",
              "    </tr>\n",
              "    <tr>\n",
              "      <th>1</th>\n",
              "      <td>박용택</td>\n",
              "      <td>20</td>\n",
              "    </tr>\n",
              "    <tr>\n",
              "      <th>2</th>\n",
              "      <td>정성훈</td>\n",
              "      <td>15</td>\n",
              "    </tr>\n",
              "    <tr>\n",
              "      <th>3</th>\n",
              "      <td>다니엘</td>\n",
              "      <td>18</td>\n",
              "    </tr>\n",
              "    <tr>\n",
              "      <th>4</th>\n",
              "      <td>지민</td>\n",
              "      <td>16</td>\n",
              "    </tr>\n",
              "  </tbody>\n",
              "</table>\n",
              "</div>"
            ],
            "text/plain": [
              "    이름  중간고사\n",
              "0  오지환    20\n",
              "1  박용택    20\n",
              "2  정성훈    15\n",
              "3  다니엘    18\n",
              "4   지민    16"
            ]
          },
          "metadata": {
            "tags": []
          },
          "execution_count": 4
        }
      ]
    },
    {
      "cell_type": "markdown",
      "metadata": {
        "id": "ZtMMb8CJPLbu"
      },
      "source": [
        "### 3. reindex를 이용하여 2, 0, 4, 1, 3 순으로 순서를 변경하시오.\n"
      ]
    },
    {
      "cell_type": "code",
      "metadata": {
        "id": "S9D0P2mPOq9D",
        "outputId": "856b6562-fe8f-4fb7-c114-795dd7592fe7",
        "colab": {
          "base_uri": "https://localhost:8080/",
          "height": 204
        }
      },
      "source": [
        "df = df.reindex([2, 0, 4, 1, 3]) #순서를 재지정 -> reindex\n",
        "df"
      ],
      "execution_count": 5,
      "outputs": [
        {
          "output_type": "execute_result",
          "data": {
            "text/html": [
              "<div>\n",
              "<style scoped>\n",
              "    .dataframe tbody tr th:only-of-type {\n",
              "        vertical-align: middle;\n",
              "    }\n",
              "\n",
              "    .dataframe tbody tr th {\n",
              "        vertical-align: top;\n",
              "    }\n",
              "\n",
              "    .dataframe thead th {\n",
              "        text-align: right;\n",
              "    }\n",
              "</style>\n",
              "<table border=\"1\" class=\"dataframe\">\n",
              "  <thead>\n",
              "    <tr style=\"text-align: right;\">\n",
              "      <th></th>\n",
              "      <th>학번</th>\n",
              "      <th>이름</th>\n",
              "      <th>학과</th>\n",
              "      <th>Quiz</th>\n",
              "      <th>중간고사</th>\n",
              "    </tr>\n",
              "  </thead>\n",
              "  <tbody>\n",
              "    <tr>\n",
              "      <th>2</th>\n",
              "      <td>201621233</td>\n",
              "      <td>정성훈</td>\n",
              "      <td>경영정보</td>\n",
              "      <td>10</td>\n",
              "      <td>15</td>\n",
              "    </tr>\n",
              "    <tr>\n",
              "      <th>0</th>\n",
              "      <td>201524213</td>\n",
              "      <td>오지환</td>\n",
              "      <td>경영정보</td>\n",
              "      <td>15</td>\n",
              "      <td>20</td>\n",
              "    </tr>\n",
              "    <tr>\n",
              "      <th>4</th>\n",
              "      <td>201722222</td>\n",
              "      <td>지민</td>\n",
              "      <td>컴퓨터공학</td>\n",
              "      <td>18</td>\n",
              "      <td>16</td>\n",
              "    </tr>\n",
              "    <tr>\n",
              "      <th>1</th>\n",
              "      <td>201621223</td>\n",
              "      <td>박용택</td>\n",
              "      <td>경영정보</td>\n",
              "      <td>20</td>\n",
              "      <td>20</td>\n",
              "    </tr>\n",
              "    <tr>\n",
              "      <th>3</th>\n",
              "      <td>201611111</td>\n",
              "      <td>다니엘</td>\n",
              "      <td>컴퓨터공학</td>\n",
              "      <td>17</td>\n",
              "      <td>18</td>\n",
              "    </tr>\n",
              "  </tbody>\n",
              "</table>\n",
              "</div>"
            ],
            "text/plain": [
              "          학번   이름     학과  Quiz  중간고사\n",
              "2  201621233  정성훈   경영정보    10    15\n",
              "0  201524213  오지환   경영정보    15    20\n",
              "4  201722222   지민  컴퓨터공학    18    16\n",
              "1  201621223  박용택   경영정보    20    20\n",
              "3  201611111  다니엘  컴퓨터공학    17    18"
            ]
          },
          "metadata": {
            "tags": []
          },
          "execution_count": 5
        }
      ]
    },
    {
      "cell_type": "markdown",
      "metadata": {
        "id": "xDujvViZPNQV"
      },
      "source": [
        "### 4. iloc과 loc을 각각 이용하여 박용택 학생의 record를 추출하시오. (iloc으로 한번, loc으로 한번 수행)\n"
      ]
    },
    {
      "cell_type": "code",
      "metadata": {
        "id": "3Lnx38bxOsE7",
        "outputId": "c12a8ce5-53fc-49d5-ff02-890145b1c4d6",
        "colab": {
          "base_uri": "https://localhost:8080/",
          "height": 119
        }
      },
      "source": [
        "#print(df.iloc[3]) #행단위의 출력\n",
        "print(df.loc[1]) #index 단위의 출력"
      ],
      "execution_count": 22,
      "outputs": [
        {
          "output_type": "stream",
          "text": [
            "학번      201621223\n",
            "이름            박용택\n",
            "학과           경영정보\n",
            "Quiz           20\n",
            "중간고사           20\n",
            "Name: 1, dtype: object\n"
          ],
          "name": "stdout"
        }
      ]
    },
    {
      "cell_type": "markdown",
      "metadata": {
        "id": "SyfL6_cHPPOj"
      },
      "source": [
        "### 5. iloc과 loc을 각각 이용하여 모든 학생의 이름과 중간고사 점수를 추출하시오. (iloc으로 한번, loc으로 한번 수행)¶\n"
      ]
    },
    {
      "cell_type": "code",
      "metadata": {
        "id": "kskFXaD-OtS3",
        "outputId": "7c44e773-298a-446f-fdff-2034511fb8fb",
        "colab": {
          "base_uri": "https://localhost:8080/",
          "height": 221
        }
      },
      "source": [
        "print(df.iloc[:, [1, 4]])\n",
        "print(df.loc[:, ['이름', '중간고사']])"
      ],
      "execution_count": 7,
      "outputs": [
        {
          "output_type": "stream",
          "text": [
            "    이름  중간고사\n",
            "2  정성훈    15\n",
            "0  오지환    20\n",
            "4   지민    16\n",
            "1  박용택    20\n",
            "3  다니엘    18\n",
            "    이름  중간고사\n",
            "2  정성훈    15\n",
            "0  오지환    20\n",
            "4   지민    16\n",
            "1  박용택    20\n",
            "3  다니엘    18\n"
          ],
          "name": "stdout"
        }
      ]
    },
    {
      "cell_type": "markdown",
      "metadata": {
        "id": "Kn0Ad8qkPRMf"
      },
      "source": [
        "### 6. 중간고사 점수의 평균을 구하시오.\n"
      ]
    },
    {
      "cell_type": "code",
      "metadata": {
        "id": "fieP5881Oufn",
        "outputId": "6c15d119-9314-484b-9431-44ef4d685512",
        "colab": {
          "base_uri": "https://localhost:8080/",
          "height": 34
        }
      },
      "source": [
        "df['중간고사'].mean() #평균 mean"
      ],
      "execution_count": 8,
      "outputs": [
        {
          "output_type": "execute_result",
          "data": {
            "text/plain": [
              "17.8"
            ]
          },
          "metadata": {
            "tags": []
          },
          "execution_count": 8
        }
      ]
    },
    {
      "cell_type": "markdown",
      "metadata": {
        "id": "cbutO3VyPTFn"
      },
      "source": [
        "### 7. 중간고사 점수가 가장 낮은 학생의 index를 구하시오.\n"
      ]
    },
    {
      "cell_type": "code",
      "metadata": {
        "id": "Pj4gu-LUOvcj",
        "outputId": "fb9a262d-9131-410e-b386-3ed3f9fca440",
        "colab": {
          "base_uri": "https://localhost:8080/",
          "height": 34
        }
      },
      "source": [
        "df['중간고사'].idxmin() #가장 작은 index -> idxmin"
      ],
      "execution_count": 9,
      "outputs": [
        {
          "output_type": "execute_result",
          "data": {
            "text/plain": [
              "2"
            ]
          },
          "metadata": {
            "tags": []
          },
          "execution_count": 9
        }
      ]
    },
    {
      "cell_type": "markdown",
      "metadata": {
        "id": "it5YDCTkPU7t"
      },
      "source": [
        "### 8. 퀴즈 점수가 가장 높은 학생의 학번을 구하시오.\n"
      ]
    },
    {
      "cell_type": "code",
      "metadata": {
        "id": "ha2WekhAO2Rr",
        "outputId": "3909d2a8-9979-4bbf-d7e1-42f133a1d7a8",
        "colab": {
          "base_uri": "https://localhost:8080/",
          "height": 34
        }
      },
      "source": [
        "df.loc[df['Quiz'].idxmax(), '학번'] # 가장 높은 점수에서 학번 출력"
      ],
      "execution_count": 10,
      "outputs": [
        {
          "output_type": "execute_result",
          "data": {
            "text/plain": [
              "201621223"
            ]
          },
          "metadata": {
            "tags": []
          },
          "execution_count": 10
        }
      ]
    },
    {
      "cell_type": "markdown",
      "metadata": {
        "id": "NTqTvlOtPWuw"
      },
      "source": [
        "### 9. 위 데이터프레임의 각 열에 대해서 개수, 평균, 표준편차, 최소최대값 등의 다양한 통계량을 출력하시오.\n"
      ]
    },
    {
      "cell_type": "code",
      "metadata": {
        "id": "bdbH8PkjPXQe",
        "outputId": "8ebdf118-edc9-4c5e-ea4a-184bb23d9ed0",
        "colab": {
          "base_uri": "https://localhost:8080/",
          "height": 297
        }
      },
      "source": [
        "df.describe() #describe()-> df에 대한 통계정보 출력"
      ],
      "execution_count": 11,
      "outputs": [
        {
          "output_type": "execute_result",
          "data": {
            "text/html": [
              "<div>\n",
              "<style scoped>\n",
              "    .dataframe tbody tr th:only-of-type {\n",
              "        vertical-align: middle;\n",
              "    }\n",
              "\n",
              "    .dataframe tbody tr th {\n",
              "        vertical-align: top;\n",
              "    }\n",
              "\n",
              "    .dataframe thead th {\n",
              "        text-align: right;\n",
              "    }\n",
              "</style>\n",
              "<table border=\"1\" class=\"dataframe\">\n",
              "  <thead>\n",
              "    <tr style=\"text-align: right;\">\n",
              "      <th></th>\n",
              "      <th>학번</th>\n",
              "      <th>Quiz</th>\n",
              "      <th>중간고사</th>\n",
              "    </tr>\n",
              "  </thead>\n",
              "  <tbody>\n",
              "    <tr>\n",
              "      <th>count</th>\n",
              "      <td>5.000000e+00</td>\n",
              "      <td>5.000000</td>\n",
              "      <td>5.000000</td>\n",
              "    </tr>\n",
              "    <tr>\n",
              "      <th>mean</th>\n",
              "      <td>2.016200e+08</td>\n",
              "      <td>16.000000</td>\n",
              "      <td>17.800000</td>\n",
              "    </tr>\n",
              "    <tr>\n",
              "      <th>std</th>\n",
              "      <td>7.018995e+04</td>\n",
              "      <td>3.807887</td>\n",
              "      <td>2.280351</td>\n",
              "    </tr>\n",
              "    <tr>\n",
              "      <th>min</th>\n",
              "      <td>2.015242e+08</td>\n",
              "      <td>10.000000</td>\n",
              "      <td>15.000000</td>\n",
              "    </tr>\n",
              "    <tr>\n",
              "      <th>25%</th>\n",
              "      <td>2.016111e+08</td>\n",
              "      <td>15.000000</td>\n",
              "      <td>16.000000</td>\n",
              "    </tr>\n",
              "    <tr>\n",
              "      <th>50%</th>\n",
              "      <td>2.016212e+08</td>\n",
              "      <td>17.000000</td>\n",
              "      <td>18.000000</td>\n",
              "    </tr>\n",
              "    <tr>\n",
              "      <th>75%</th>\n",
              "      <td>2.016212e+08</td>\n",
              "      <td>18.000000</td>\n",
              "      <td>20.000000</td>\n",
              "    </tr>\n",
              "    <tr>\n",
              "      <th>max</th>\n",
              "      <td>2.017222e+08</td>\n",
              "      <td>20.000000</td>\n",
              "      <td>20.000000</td>\n",
              "    </tr>\n",
              "  </tbody>\n",
              "</table>\n",
              "</div>"
            ],
            "text/plain": [
              "                 학번       Quiz       중간고사\n",
              "count  5.000000e+00   5.000000   5.000000\n",
              "mean   2.016200e+08  16.000000  17.800000\n",
              "std    7.018995e+04   3.807887   2.280351\n",
              "min    2.015242e+08  10.000000  15.000000\n",
              "25%    2.016111e+08  15.000000  16.000000\n",
              "50%    2.016212e+08  17.000000  18.000000\n",
              "75%    2.016212e+08  18.000000  20.000000\n",
              "max    2.017222e+08  20.000000  20.000000"
            ]
          },
          "metadata": {
            "tags": []
          },
          "execution_count": 11
        }
      ]
    },
    {
      "cell_type": "markdown",
      "metadata": {
        "id": "_8LW5OZhPbql"
      },
      "source": [
        "### 10. 위 데이터프레임을 중간고사 점수에 따라 내림차순으로 정렬하시오.\n"
      ]
    },
    {
      "cell_type": "code",
      "metadata": {
        "id": "yRKv0mfBPZ0R",
        "outputId": "d666ccc5-022f-4a0f-ad79-b10db3f8dbb3",
        "colab": {
          "base_uri": "https://localhost:8080/",
          "height": 204
        }
      },
      "source": [
        "df.sort_values('중간고사', ascending=False) #내림차순 정렬"
      ],
      "execution_count": 12,
      "outputs": [
        {
          "output_type": "execute_result",
          "data": {
            "text/html": [
              "<div>\n",
              "<style scoped>\n",
              "    .dataframe tbody tr th:only-of-type {\n",
              "        vertical-align: middle;\n",
              "    }\n",
              "\n",
              "    .dataframe tbody tr th {\n",
              "        vertical-align: top;\n",
              "    }\n",
              "\n",
              "    .dataframe thead th {\n",
              "        text-align: right;\n",
              "    }\n",
              "</style>\n",
              "<table border=\"1\" class=\"dataframe\">\n",
              "  <thead>\n",
              "    <tr style=\"text-align: right;\">\n",
              "      <th></th>\n",
              "      <th>학번</th>\n",
              "      <th>이름</th>\n",
              "      <th>학과</th>\n",
              "      <th>Quiz</th>\n",
              "      <th>중간고사</th>\n",
              "    </tr>\n",
              "  </thead>\n",
              "  <tbody>\n",
              "    <tr>\n",
              "      <th>0</th>\n",
              "      <td>201524213</td>\n",
              "      <td>오지환</td>\n",
              "      <td>경영정보</td>\n",
              "      <td>15</td>\n",
              "      <td>20</td>\n",
              "    </tr>\n",
              "    <tr>\n",
              "      <th>1</th>\n",
              "      <td>201621223</td>\n",
              "      <td>박용택</td>\n",
              "      <td>경영정보</td>\n",
              "      <td>20</td>\n",
              "      <td>20</td>\n",
              "    </tr>\n",
              "    <tr>\n",
              "      <th>3</th>\n",
              "      <td>201611111</td>\n",
              "      <td>다니엘</td>\n",
              "      <td>컴퓨터공학</td>\n",
              "      <td>17</td>\n",
              "      <td>18</td>\n",
              "    </tr>\n",
              "    <tr>\n",
              "      <th>4</th>\n",
              "      <td>201722222</td>\n",
              "      <td>지민</td>\n",
              "      <td>컴퓨터공학</td>\n",
              "      <td>18</td>\n",
              "      <td>16</td>\n",
              "    </tr>\n",
              "    <tr>\n",
              "      <th>2</th>\n",
              "      <td>201621233</td>\n",
              "      <td>정성훈</td>\n",
              "      <td>경영정보</td>\n",
              "      <td>10</td>\n",
              "      <td>15</td>\n",
              "    </tr>\n",
              "  </tbody>\n",
              "</table>\n",
              "</div>"
            ],
            "text/plain": [
              "          학번   이름     학과  Quiz  중간고사\n",
              "0  201524213  오지환   경영정보    15    20\n",
              "1  201621223  박용택   경영정보    20    20\n",
              "3  201611111  다니엘  컴퓨터공학    17    18\n",
              "4  201722222   지민  컴퓨터공학    18    16\n",
              "2  201621233  정성훈   경영정보    10    15"
            ]
          },
          "metadata": {
            "tags": []
          },
          "execution_count": 12
        }
      ]
    },
    {
      "cell_type": "markdown",
      "metadata": {
        "id": "OZLJEff1PeGZ"
      },
      "source": [
        "### 11. 학생 중에서 퀴즈 점수가 평균 이상인 학생들의 이름을 출력하시오.\n"
      ]
    },
    {
      "cell_type": "code",
      "metadata": {
        "id": "Z1OfHSqEPdBJ",
        "outputId": "2150df4c-3616-4d16-8f22-d84fae598392",
        "colab": {
          "base_uri": "https://localhost:8080/",
          "height": 85
        }
      },
      "source": [
        "quiz_mean = df['Quiz'].mean() #평균을 지정\n",
        "df[df['Quiz'] > quiz_mean]['이름'] #점수중, 평균보다 높은 사람의 이름을 출력"
      ],
      "execution_count": 13,
      "outputs": [
        {
          "output_type": "execute_result",
          "data": {
            "text/plain": [
              "4     지민\n",
              "1    박용택\n",
              "3    다니엘\n",
              "Name: 이름, dtype: object"
            ]
          },
          "metadata": {
            "tags": []
          },
          "execution_count": 13
        }
      ]
    },
    {
      "cell_type": "markdown",
      "metadata": {
        "id": "hWGt3XRDPidx"
      },
      "source": [
        "### 12. 학생 중에서 퀴즈와 중간고사 점수 모두 평균 이상인 학생들의 record를 출력하시오.\n"
      ]
    },
    {
      "cell_type": "code",
      "metadata": {
        "id": "HxS3VpaPPeXf",
        "outputId": "017b3c98-6e24-4b10-b4ae-22fdfd738132",
        "colab": {
          "base_uri": "https://localhost:8080/",
          "height": 111
        }
      },
      "source": [
        "quiz_mean = df['Quiz'].mean() #퀴즈 평균 저장\n",
        "mid_mean = df['중간고사'].mean() #중간고사 평균 저장\n",
        "df[(df['Quiz'] > quiz_mean) & (df['중간고사'] > mid_mean)] #퀴즈가 평균보다 높으면서 중간고사도 평균보다 높은 행 출력"
      ],
      "execution_count": 14,
      "outputs": [
        {
          "output_type": "execute_result",
          "data": {
            "text/html": [
              "<div>\n",
              "<style scoped>\n",
              "    .dataframe tbody tr th:only-of-type {\n",
              "        vertical-align: middle;\n",
              "    }\n",
              "\n",
              "    .dataframe tbody tr th {\n",
              "        vertical-align: top;\n",
              "    }\n",
              "\n",
              "    .dataframe thead th {\n",
              "        text-align: right;\n",
              "    }\n",
              "</style>\n",
              "<table border=\"1\" class=\"dataframe\">\n",
              "  <thead>\n",
              "    <tr style=\"text-align: right;\">\n",
              "      <th></th>\n",
              "      <th>학번</th>\n",
              "      <th>이름</th>\n",
              "      <th>학과</th>\n",
              "      <th>Quiz</th>\n",
              "      <th>중간고사</th>\n",
              "    </tr>\n",
              "  </thead>\n",
              "  <tbody>\n",
              "    <tr>\n",
              "      <th>1</th>\n",
              "      <td>201621223</td>\n",
              "      <td>박용택</td>\n",
              "      <td>경영정보</td>\n",
              "      <td>20</td>\n",
              "      <td>20</td>\n",
              "    </tr>\n",
              "    <tr>\n",
              "      <th>3</th>\n",
              "      <td>201611111</td>\n",
              "      <td>다니엘</td>\n",
              "      <td>컴퓨터공학</td>\n",
              "      <td>17</td>\n",
              "      <td>18</td>\n",
              "    </tr>\n",
              "  </tbody>\n",
              "</table>\n",
              "</div>"
            ],
            "text/plain": [
              "          학번   이름     학과  Quiz  중간고사\n",
              "1  201621223  박용택   경영정보    20    20\n",
              "3  201611111  다니엘  컴퓨터공학    17    18"
            ]
          },
          "metadata": {
            "tags": []
          },
          "execution_count": 14
        }
      ]
    },
    {
      "cell_type": "markdown",
      "metadata": {
        "id": "wzDWkqY4PluQ"
      },
      "source": [
        "### 13. value_counts를 이용하여 학과 별로 학생의 수를 구하시오.\n"
      ]
    },
    {
      "cell_type": "code",
      "metadata": {
        "id": "C4DDQF6MPkrY",
        "outputId": "71d7678d-409f-4828-cc7f-dc11083ed1d2",
        "colab": {
          "base_uri": "https://localhost:8080/",
          "height": 68
        }
      },
      "source": [
        "df['학과'].value_counts() #학과의 학생수 출력"
      ],
      "execution_count": 15,
      "outputs": [
        {
          "output_type": "execute_result",
          "data": {
            "text/plain": [
              "경영정보     3\n",
              "컴퓨터공학    2\n",
              "Name: 학과, dtype: int64"
            ]
          },
          "metadata": {
            "tags": []
          },
          "execution_count": 15
        }
      ]
    },
    {
      "cell_type": "markdown",
      "metadata": {
        "id": "l4fK_hZhPn_H"
      },
      "source": [
        "### 14. groupby를 이용하여 학과 별로 중간고사의 평균을 구하시오.\n"
      ]
    },
    {
      "cell_type": "code",
      "metadata": {
        "id": "Yu9uSITQPm8f",
        "outputId": "42d0cd73-32db-499b-dbd5-f13f9df3e5be",
        "colab": {
          "base_uri": "https://localhost:8080/",
          "height": 85
        }
      },
      "source": [
        "df.groupby('학과')['중간고사'].mean() #학과별 평균점수 출력"
      ],
      "execution_count": 16,
      "outputs": [
        {
          "output_type": "execute_result",
          "data": {
            "text/plain": [
              "학과\n",
              "경영정보     18.333333\n",
              "컴퓨터공학    17.000000\n",
              "Name: 중간고사, dtype: float64"
            ]
          },
          "metadata": {
            "tags": []
          },
          "execution_count": 16
        }
      ]
    },
    {
      "cell_type": "code",
      "metadata": {
        "id": "oujPh9MePpTR",
        "outputId": "7f43725b-df82-4352-ac2b-d3d3ba73dccd",
        "colab": {
          "base_uri": "https://localhost:8080/",
          "height": 85
        }
      },
      "source": [
        "df.mean() #전체의 컬럼별 평균 출력"
      ],
      "execution_count": 17,
      "outputs": [
        {
          "output_type": "execute_result",
          "data": {
            "text/plain": [
              "학번      201620000.4\n",
              "Quiz           16.0\n",
              "중간고사           17.8\n",
              "dtype: float64"
            ]
          },
          "metadata": {
            "tags": []
          },
          "execution_count": 17
        }
      ]
    },
    {
      "cell_type": "code",
      "metadata": {
        "id": "1ZaPLBcDPqvR",
        "outputId": "95edcb4f-1522-4538-df16-ee26fa765d91",
        "colab": {
          "base_uri": "https://localhost:8080/",
          "height": 136
        }
      },
      "source": [
        "list(df.groupby('학과')) #학과별로 재구성하여 출력"
      ],
      "execution_count": 18,
      "outputs": [
        {
          "output_type": "execute_result",
          "data": {
            "text/plain": [
              "[('경영정보',           학번   이름    학과  Quiz  중간고사\n",
              "  2  201621233  정성훈  경영정보    10    15\n",
              "  0  201524213  오지환  경영정보    15    20\n",
              "  1  201621223  박용택  경영정보    20    20),\n",
              " ('컴퓨터공학',           학번   이름     학과  Quiz  중간고사\n",
              "  4  201722222   지민  컴퓨터공학    18    16\n",
              "  3  201611111  다니엘  컴퓨터공학    17    18)]"
            ]
          },
          "metadata": {
            "tags": []
          },
          "execution_count": 18
        }
      ]
    }
  ]
}