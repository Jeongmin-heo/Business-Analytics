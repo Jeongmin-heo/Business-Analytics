{
  "nbformat": 4,
  "nbformat_minor": 0,
  "metadata": {
    "colab": {
      "name": "Python_exercise2.ipynb",
      "provenance": [],
      "authorship_tag": "ABX9TyMxqGhYwQ1IqpH8Agr+LRLl"
    },
    "kernelspec": {
      "name": "python3",
      "display_name": "Python 3"
    }
  },
  "cells": [
    {
      "cell_type": "markdown",
      "metadata": {
        "id": "Z3zkZ31yot7_",
        "colab_type": "text"
      },
      "source": [
        "# 파이썬 스타일 코드2 - 연습해보기\n",
        "\n",
        "## 실습코드\n"
      ]
    },
    {
      "cell_type": "markdown",
      "metadata": {
        "id": "sOs5kQ28o1yu",
        "colab_type": "text"
      },
      "source": [
        "## 1. 람다함수\n",
        "람다(lambda) 함수는 함수의 이름 없이, 함수처럼 사용할 수 있는 익명의 함수를 말한다. 선형대수나 미적분 등의 과목을 수강하다 보면, 한 번쯤 람다 대수라는 표현을 들어 보았을 것이다. 람다 함수의 '람다'는 바로 이 람다 대수에서 유래하였다. 일반적으로 람다 함수는 이름을 지정하지 않아도 사용할 수 있다."
      ]
    },
    {
      "cell_type": "markdown",
      "metadata": {
        "id": "rD7qbfdEo6Lx",
        "colab_type": "text"
      },
      "source": [
        "### 1.1. 기존함수"
      ]
    },
    {
      "cell_type": "code",
      "metadata": {
        "id": "ERMu6xfOoyuY",
        "colab_type": "code",
        "colab": {
          "base_uri": "https://localhost:8080/",
          "height": 34
        },
        "outputId": "d872d5bc-d1e7-48e7-f2d0-8d26c4640a74"
      },
      "source": [
        "def f(x,y):\n",
        "    return x + y\n",
        "\n",
        "print(f(1,4))"
      ],
      "execution_count": 1,
      "outputs": [
        {
          "output_type": "stream",
          "text": [
            "5\n"
          ],
          "name": "stdout"
        }
      ]
    },
    {
      "cell_type": "markdown",
      "metadata": {
        "id": "lirKaZeUpAPd",
        "colab_type": "text"
      },
      "source": [
        "### 1.2. lambda 함수 할당"
      ]
    },
    {
      "cell_type": "code",
      "metadata": {
        "id": "W30E_lqYo9G4",
        "colab_type": "code",
        "colab": {
          "base_uri": "https://localhost:8080/",
          "height": 34
        },
        "outputId": "53082387-3d5d-4177-9d56-f795d88129c5"
      },
      "source": [
        "f=lambda x,y: x + y\n",
        "print(f(1,4))"
      ],
      "execution_count": 2,
      "outputs": [
        {
          "output_type": "stream",
          "text": [
            "5\n"
          ],
          "name": "stdout"
        }
      ]
    },
    {
      "cell_type": "markdown",
      "metadata": {
        "id": "oY0LLgwBpC66",
        "colab_type": "text"
      },
      "source": [
        "### 1.3. 익명의 lambda 함수\n"
      ]
    },
    {
      "cell_type": "code",
      "metadata": {
        "id": "R6DO_aXPo8US",
        "colab_type": "code",
        "colab": {
          "base_uri": "https://localhost:8080/",
          "height": 34
        },
        "outputId": "90608712-3cdb-4dab-d436-5ed3e4876def"
      },
      "source": [
        "print((lambda x, y:x + y)(1, 4))"
      ],
      "execution_count": 3,
      "outputs": [
        {
          "output_type": "stream",
          "text": [
            "5\n"
          ],
          "name": "stdout"
        }
      ]
    },
    {
      "cell_type": "markdown",
      "metadata": {
        "id": "vmzKh8xgo9nI",
        "colab_type": "text"
      },
      "source": [
        "# 2. 맵리듀스\n"
      ]
    },
    {
      "cell_type": "markdown",
      "metadata": {
        "id": "wAuo9jr9pHLk",
        "colab_type": "text"
      },
      "source": [
        "## 2.1. map 함수\n",
        "연속 데이터를 저장하는 시퀀스 자료형에서 요소마다 같은 기능을 적용할 때 사용한다. 일반적으로 리스트나 튜플처럼 요소가 있는 시퀀스 자료형에 사용된다. 다음의 사용 예제를 보자."
      ]
    },
    {
      "cell_type": "code",
      "metadata": {
        "id": "rUlepiCPpGoH",
        "colab_type": "code",
        "colab": {
          "base_uri": "https://localhost:8080/",
          "height": 34
        },
        "outputId": "ef6fa213-e42f-46fd-ea9f-f1f9a1824b71"
      },
      "source": [
        "ex = [1,2,3,4,5]\n",
        "f = lambda x:x**2\n",
        "print(list(map(f, ex)))"
      ],
      "execution_count": 5,
      "outputs": [
        {
          "output_type": "stream",
          "text": [
            "[1, 4, 9, 16, 25]\n"
          ],
          "name": "stdout"
        }
      ]
    },
    {
      "cell_type": "markdown",
      "metadata": {
        "id": "pX0UPynRp-N0",
        "colab_type": "text"
      },
      "source": [
        "코드 설명\n",
        "- 위 코드에서는 먼저 ex라는 이름의 리스트를 만들고, 입력된 값을 제곱하는 람다함수 f를 생성하였다. 그리고 'map(함수이름, 리스트 데이터)'의 구조에서 map(f,ex) 코드를 실행한다. 이는 해당 코드로 함수 f를 ex의 각 요소에 매핑하라는 뜻이다.\n",
        "- 파이썬 2.x와 3.x의 차이는 제너레이터의 사용인데 3.x 부터는 map()함수의 기본 반환이 제너레이터이므로 list() 함수를 사용해야 리스트로 반환된다.\n",
        "- 제너레이터(generator)는 시퀀스 자료형의 데이터를 처리할 때, 실행 시점의 값을 생성하여 효율적으로 메모리를 관리할 수 있다는 장점이 있따.\n",
        "- 만일 list를 붙이지 않는다면, 다음 코드처럼 코딩할 수도 있다. 여기서 함수는 반드시 람다함수일 필요는 없고, 일반 함수를 만들어 사용해도 문제 없다.\n"
      ]
    },
    {
      "cell_type": "code",
      "metadata": {
        "id": "X34GkLUip2nu",
        "colab_type": "code",
        "colab": {
          "base_uri": "https://localhost:8080/",
          "height": 34
        },
        "outputId": "33b51331-de67-4036-e9a3-44a0f67a5005"
      },
      "source": [
        "ex = [1, 2, 3, 4, 5]\n",
        "[x**2 for x in ex]"
      ],
      "execution_count": 6,
      "outputs": [
        {
          "output_type": "execute_result",
          "data": {
            "text/plain": [
              "[1, 4, 9, 16, 25]"
            ]
          },
          "metadata": {
            "tags": []
          },
          "execution_count": 6
        }
      ]
    },
    {
      "cell_type": "code",
      "metadata": {
        "id": "mZXf3vmFp4fc",
        "colab_type": "code",
        "colab": {
          "base_uri": "https://localhost:8080/",
          "height": 34
        },
        "outputId": "faf6d3df-b203-4cdb-a3bb-b553e9dafa67"
      },
      "source": [
        "ex=[1,2,3,4,5]\n",
        "f=lambda x,y:x+y\n",
        "list(map(f,ex,ex))"
      ],
      "execution_count": 7,
      "outputs": [
        {
          "output_type": "execute_result",
          "data": {
            "text/plain": [
              "[2, 4, 6, 8, 10]"
            ]
          },
          "metadata": {
            "tags": []
          },
          "execution_count": 7
        }
      ]
    },
    {
      "cell_type": "code",
      "metadata": {
        "id": "NBA2Pjilp4pO",
        "colab_type": "code",
        "colab": {
          "base_uri": "https://localhost:8080/",
          "height": 34
        },
        "outputId": "bae62e86-26d7-4dd8-d2fa-3a3c4baed6db"
      },
      "source": [
        "[x+y for x,y in zip(ex,ex)] # 리스트 컴프리헨션 용법"
      ],
      "execution_count": 8,
      "outputs": [
        {
          "output_type": "execute_result",
          "data": {
            "text/plain": [
              "[2, 4, 6, 8, 10]"
            ]
          },
          "metadata": {
            "tags": []
          },
          "execution_count": 8
        }
      ]
    },
    {
      "cell_type": "markdown",
      "metadata": {
        "id": "8IvISvB-pJ97",
        "colab_type": "text"
      },
      "source": [
        "\n",
        "## 2.2. reduce 함수\n",
        "- map() 함수와 다르지만 형제처럼 사용하는 함수로 리스트와 같은 시쿼스 자료형에 차례대로 함수를 적용하여 모든 값을 통합하는 함수이다.\n",
        "- lambda 함수와 함께 쓰여 좀 복잡해 보여 예전에는 많이 쓰였으나 최근 버전에서는 사용을 권장하지 않는다. 그러나 많은 코드들이 여전히 사용하고 있어 이해차원에서 배울 필요가 있다."
      ]
    },
    {
      "cell_type": "code",
      "metadata": {
        "id": "F-QwxmUepLMX",
        "colab_type": "code",
        "colab": {
          "base_uri": "https://localhost:8080/",
          "height": 34
        },
        "outputId": "0d72b340-d586-4ccb-d5c3-29acc918ec59"
      },
      "source": [
        "from functools import reduce\n",
        "print(reduce(lambda x,y:x+y, [1,2,3,4,5]))"
      ],
      "execution_count": 9,
      "outputs": [
        {
          "output_type": "stream",
          "text": [
            "15\n"
          ],
          "name": "stdout"
        }
      ]
    },
    {
      "cell_type": "code",
      "metadata": {
        "id": "ZRFHNCAwqCJK",
        "colab_type": "code",
        "colab": {
          "base_uri": "https://localhost:8080/",
          "height": 34
        },
        "outputId": "f5577a13-f8b4-49c2-b539-df8a5b3579cc"
      },
      "source": [
        "x=0\n",
        "for y in [1,2,3,4,5]:\n",
        "    x += y\n",
        "print(x)"
      ],
      "execution_count": 10,
      "outputs": [
        {
          "output_type": "stream",
          "text": [
            "15\n"
          ],
          "name": "stdout"
        }
      ]
    },
    {
      "cell_type": "markdown",
      "metadata": {
        "id": "GBTo2Q5jpMjZ",
        "colab_type": "text"
      },
      "source": [
        "# 3. 별표의 활용\n"
      ]
    },
    {
      "cell_type": "markdown",
      "metadata": {
        "id": "dZospbV0pN_q",
        "colab_type": "text"
      },
      "source": [
        "### 3.1. 가변 인수로 활용¶\n",
        "가변 인수\n"
      ]
    },
    {
      "cell_type": "code",
      "metadata": {
        "id": "p2xC9ZiWpNCO",
        "colab_type": "code",
        "colab": {
          "base_uri": "https://localhost:8080/",
          "height": 51
        },
        "outputId": "2b6ec47c-beb2-47c0-f935-25f9086e093a"
      },
      "source": [
        "def asterisk_test(a, *args):\n",
        "    print(a,args)\n",
        "    print(type(args))\n",
        "\n",
        "asterisk_test(1,2,3,4,5,6)"
      ],
      "execution_count": 11,
      "outputs": [
        {
          "output_type": "stream",
          "text": [
            "1 (2, 3, 4, 5, 6)\n",
            "<class 'tuple'>\n"
          ],
          "name": "stdout"
        }
      ]
    },
    {
      "cell_type": "code",
      "metadata": {
        "id": "iP1zpZDgpPQL",
        "colab_type": "code",
        "colab": {
          "base_uri": "https://localhost:8080/",
          "height": 51
        },
        "outputId": "b45bb9ab-a7bd-4582-e0bd-d985605e236d"
      },
      "source": [
        "def asterisk_test(a,**kargs):\n",
        "    print(a,kargs)\n",
        "    print(type(kargs))\n",
        "asterisk_test(1,b=2,c=3,d=4,e=5,f=6)\n"
      ],
      "execution_count": 12,
      "outputs": [
        {
          "output_type": "stream",
          "text": [
            "1 {'b': 2, 'c': 3, 'd': 4, 'e': 5, 'f': 6}\n",
            "<class 'dict'>\n"
          ],
          "name": "stdout"
        }
      ]
    },
    {
      "cell_type": "markdown",
      "metadata": {
        "id": "F3U9EurlpRrF",
        "colab_type": "text"
      },
      "source": [
        "### 3.2. 별표의 언패킹 기능\n",
        "함수에서의 사용"
      ]
    },
    {
      "cell_type": "code",
      "metadata": {
        "id": "oqfasV8GpSbH",
        "colab_type": "code",
        "colab": {
          "base_uri": "https://localhost:8080/",
          "height": 51
        },
        "outputId": "94510222-c8e9-4446-fcce-1da458ee1469"
      },
      "source": [
        "def asterisk_test(a,args):\n",
        "    print(a,*args)\n",
        "    print(type(args))\n",
        "asterisk_test(1,(2,3,4,5,6))"
      ],
      "execution_count": 13,
      "outputs": [
        {
          "output_type": "stream",
          "text": [
            "1 2 3 4 5 6\n",
            "<class 'tuple'>\n"
          ],
          "name": "stdout"
        }
      ]
    },
    {
      "cell_type": "code",
      "metadata": {
        "id": "W4xU-1IJqJYI",
        "colab_type": "code",
        "colab": {
          "base_uri": "https://localhost:8080/",
          "height": 51
        },
        "outputId": "5f8bb4e9-aa28-4cee-b57e-3b51c83e948c"
      },
      "source": [
        "def asterisk_test(a,args):\n",
        "    print(a,args)\n",
        "    print(type(args))\n",
        "asterisk_test(1,(2,3,4,5,6))"
      ],
      "execution_count": 14,
      "outputs": [
        {
          "output_type": "stream",
          "text": [
            "1 (2, 3, 4, 5, 6)\n",
            "<class 'tuple'>\n"
          ],
          "name": "stdout"
        }
      ]
    },
    {
      "cell_type": "code",
      "metadata": {
        "id": "wc-YVHNLqLD6",
        "colab_type": "code",
        "colab": {
          "base_uri": "https://localhost:8080/",
          "height": 51
        },
        "outputId": "daddcdae-6765-444d-9825-896c03424b17"
      },
      "source": [
        "a,b,c=([1,2], [3,4], [5,6])\n",
        "print(a,b,c)\n",
        "data=([1,2], [3,4], [5,6])\n",
        "print(*data)"
      ],
      "execution_count": 15,
      "outputs": [
        {
          "output_type": "stream",
          "text": [
            "[1, 2] [3, 4] [5, 6]\n",
            "[1, 2] [3, 4] [5, 6]\n"
          ],
          "name": "stdout"
        }
      ]
    },
    {
      "cell_type": "code",
      "metadata": {
        "id": "K0tRDqfGqM0s",
        "colab_type": "code",
        "colab": {
          "base_uri": "https://localhost:8080/",
          "height": 85
        },
        "outputId": "085d94cd-ac68-4d71-a81a-f86eafb524c9"
      },
      "source": [
        "for data in zip(*[[1,2],[3,4],[5,6]]):\n",
        "    print(data)\n",
        "    print(type(data))"
      ],
      "execution_count": 16,
      "outputs": [
        {
          "output_type": "stream",
          "text": [
            "(1, 3, 5)\n",
            "<class 'tuple'>\n",
            "(2, 4, 6)\n",
            "<class 'tuple'>\n"
          ],
          "name": "stdout"
        }
      ]
    },
    {
      "cell_type": "code",
      "metadata": {
        "id": "gvgH4PbrqOjV",
        "colab_type": "code",
        "colab": {
          "base_uri": "https://localhost:8080/",
          "height": 34
        },
        "outputId": "f6fd5146-91f1-40d8-b206-ff6ec4f6aa51"
      },
      "source": [
        "def asterisk_test(a,b,c,d):\n",
        "    print(a,b,c,d)\n",
        "data={\"b\":1, \"c\":2, \"d\":3}\n",
        "asterisk_test(10, **data)"
      ],
      "execution_count": 17,
      "outputs": [
        {
          "output_type": "stream",
          "text": [
            "10 1 2 3\n"
          ],
          "name": "stdout"
        }
      ]
    },
    {
      "cell_type": "markdown",
      "metadata": {
        "id": "XksyitV7pUWv",
        "colab_type": "text"
      },
      "source": [
        "## 4. 선형대수학\n",
        "\n",
        "### 4.1. 파이썬 스타일 코드로 표현한 벡터"
      ]
    },
    {
      "cell_type": "code",
      "metadata": {
        "id": "usa-MiWNpYQ_",
        "colab_type": "code",
        "colab": {}
      },
      "source": [
        "vector_a=[1,2,10]  # 리스트로 표현한 경우\n",
        "vector_b=(1,2,10)   # 튜플로 표현한 경우\n",
        "vector_c={'x':1, 'y':2, 'z':10}  # 딕셔너리로 표현한 경우"
      ],
      "execution_count": 18,
      "outputs": []
    },
    {
      "cell_type": "code",
      "metadata": {
        "id": "Xa8ILVU1qRkY",
        "colab_type": "code",
        "colab": {
          "base_uri": "https://localhost:8080/",
          "height": 34
        },
        "outputId": "7bf86fc9-ebba-41d5-b66c-a08bb1d0cc87"
      },
      "source": [
        "u=[2,2]\n",
        "v=[2,3]\n",
        "z=[3,5]\n",
        "result=[]\n",
        "\n",
        "for i in range(len(u)):\n",
        "    result.append(u[i]+v[i]+z[i])\n",
        "print(result)"
      ],
      "execution_count": 19,
      "outputs": [
        {
          "output_type": "stream",
          "text": [
            "[7, 10]\n"
          ],
          "name": "stdout"
        }
      ]
    },
    {
      "cell_type": "code",
      "metadata": {
        "id": "iazJtdgWqTBe",
        "colab_type": "code",
        "colab": {
          "base_uri": "https://localhost:8080/",
          "height": 34
        },
        "outputId": "5fc759dc-002c-4147-d53d-bce4d157f900"
      },
      "source": [
        "u=[2,2]\n",
        "v=[2,3]\n",
        "z=[3,5]\n",
        "result=[sum(t) for t in zip(u,v,z)]\n",
        "print(result)"
      ],
      "execution_count": 20,
      "outputs": [
        {
          "output_type": "stream",
          "text": [
            "[7, 10]\n"
          ],
          "name": "stdout"
        }
      ]
    },
    {
      "cell_type": "code",
      "metadata": {
        "id": "f0Nu6d2RqUxO",
        "colab_type": "code",
        "colab": {
          "base_uri": "https://localhost:8080/",
          "height": 34
        },
        "outputId": "10ffcd17-0db6-4cf1-859c-ac450d22f4c1"
      },
      "source": [
        "def vector_addition(*args):\n",
        "    return [sum(t) for t in zip(*args)]   # unpacking 통해 zip(u,v,z) 효과를 낼 수 있음.\n",
        "\n",
        "vector_addition(u,v,z)"
      ],
      "execution_count": 21,
      "outputs": [
        {
          "output_type": "execute_result",
          "data": {
            "text/plain": [
              "[7, 10]"
            ]
          },
          "metadata": {
            "tags": []
          },
          "execution_count": 21
        }
      ]
    },
    {
      "cell_type": "code",
      "metadata": {
        "id": "0YbBhYq0qWwb",
        "colab_type": "code",
        "colab": {
          "base_uri": "https://localhost:8080/",
          "height": 34
        },
        "outputId": "e10ac574-d68e-4b0d-a923-3ab40198fa94"
      },
      "source": [
        "a = [1, 1]\n",
        "b = [2, 2]\n",
        "\n",
        "[x + y for x, y in zip(a, b)]"
      ],
      "execution_count": 22,
      "outputs": [
        {
          "output_type": "execute_result",
          "data": {
            "text/plain": [
              "[3, 3]"
            ]
          },
          "metadata": {
            "tags": []
          },
          "execution_count": 22
        }
      ]
    },
    {
      "cell_type": "code",
      "metadata": {
        "id": "GC4nRbomqYTx",
        "colab_type": "code",
        "colab": {
          "base_uri": "https://localhost:8080/",
          "height": 34
        },
        "outputId": "0c805e21-eb92-48b8-d63e-a0d2bb898b30"
      },
      "source": [
        "u=[1,2,3]\n",
        "v=[4,4,4]\n",
        "\n",
        "alpha=2\n",
        "\n",
        "result=[alpha*sum(t) for t in zip(u,v)]\n",
        "result"
      ],
      "execution_count": 23,
      "outputs": [
        {
          "output_type": "execute_result",
          "data": {
            "text/plain": [
              "[10, 12, 14]"
            ]
          },
          "metadata": {
            "tags": []
          },
          "execution_count": 23
        }
      ]
    },
    {
      "cell_type": "markdown",
      "metadata": {
        "id": "7zHyAzVYpZld",
        "colab_type": "text"
      },
      "source": [
        "### 4.2. 파이썬 스타일코드로 표현한 행렬\n",
        "딕셔너리로 표현하는 경우 좌표정보나 이름정보를 넣을 수 있으나 복잡함"
      ]
    },
    {
      "cell_type": "code",
      "metadata": {
        "id": "OPIF1Qelpabm",
        "colab_type": "code",
        "colab": {}
      },
      "source": [
        "matrix_a=[[3,6], [4,5]] #리스트로 표현한 경우\n",
        "matrix_b=[(3,6), (4,5)] #튜플로 표현한 경우\n",
        "matrix_c={(0,0):3, (0,1):6, (1,0):4, (1,1):5}  #디셔너리로 표현한경우"
      ],
      "execution_count": 24,
      "outputs": []
    },
    {
      "cell_type": "code",
      "metadata": {
        "id": "s94FoSDsqaxO",
        "colab_type": "code",
        "colab": {
          "base_uri": "https://localhost:8080/",
          "height": 34
        },
        "outputId": "a633b450-abd3-4421-9f6e-2097b757ca14"
      },
      "source": [
        "matrix_a=[[3,6], [4,5]]\n",
        "matrix_b=[[5,8], [6,7]]\n",
        "\n",
        "result=[[sum(row) for row in zip(*t)] for t in zip(matrix_a, matrix_b)]\n",
        "print(result)"
      ],
      "execution_count": 25,
      "outputs": [
        {
          "output_type": "stream",
          "text": [
            "[[8, 14], [10, 12]]\n"
          ],
          "name": "stdout"
        }
      ]
    },
    {
      "cell_type": "markdown",
      "metadata": {
        "id": "QaWoCuXGpbos",
        "colab_type": "text"
      },
      "source": [
        "# 일반문제\n",
        "## 주민등록번호로 성별 찾기 with map\n",
        "PR6에서 split을 활용하여 주민등록번호 뒷자리의 맨 첫 번째 숫자를 추출하여 성별을 알아내는 과정을 구현하였다. 이번에는 여러개의 요소를 가지는 다음과 같은 리스트에서 성별을 찾는 과정을 맵리듀스를 이용해 간단하게 구현해보자."
      ]
    },
    {
      "cell_type": "code",
      "metadata": {
        "id": "7QgSaYSppek2",
        "colab_type": "code",
        "colab": {
          "base_uri": "https://localhost:8080/",
          "height": 34
        },
        "outputId": "3a210d53-66f5-4000-d308-54535fab3639"
      },
      "source": [
        "pins = [\"891120-1234567\", \"931120-2335567\", \"911120-1234234\", \"951120-1234567\"]\n",
        "\n",
        "\n",
        "list(map(lambda x: x.split(\"-\")[1][0], pins))"
      ],
      "execution_count": 26,
      "outputs": [
        {
          "output_type": "execute_result",
          "data": {
            "text/plain": [
              "['1', '2', '1', '1']"
            ]
          },
          "metadata": {
            "tags": []
          },
          "execution_count": 26
        }
      ]
    },
    {
      "cell_type": "markdown",
      "metadata": {
        "id": "G4_qeWbzpfi7",
        "colab_type": "text"
      },
      "source": [
        "# 도전문제\n",
        "## 벡터의 내적\n"
      ]
    },
    {
      "cell_type": "code",
      "metadata": {
        "id": "rVTqMTUzqg5m",
        "colab_type": "code",
        "colab": {
          "base_uri": "https://localhost:8080/",
          "height": 34
        },
        "outputId": "7b73e755-f84e-4af9-dd51-964a885f3734"
      },
      "source": [
        "a = [1, 2]\n",
        "b = [3, 4]\n",
        "\n",
        "dot = lambda a,b : sum([x*y for x, y in zip(a, b)])\n",
        "\n",
        "dot(a,b)"
      ],
      "execution_count": 27,
      "outputs": [
        {
          "output_type": "execute_result",
          "data": {
            "text/plain": [
              "11"
            ]
          },
          "metadata": {
            "tags": []
          },
          "execution_count": 27
        }
      ]
    },
    {
      "cell_type": "code",
      "metadata": {
        "id": "lY-aalB7qhi8",
        "colab_type": "code",
        "colab": {}
      },
      "source": [
        ""
      ],
      "execution_count": null,
      "outputs": []
    }
  ]
}