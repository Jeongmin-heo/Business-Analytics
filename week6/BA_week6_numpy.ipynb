{
  "nbformat": 4,
  "nbformat_minor": 0,
  "metadata": {
    "colab": {
      "name": "BA_week6_numpy.ipynb",
      "provenance": [],
      "authorship_tag": "ABX9TyM8Oav3VKG/TyclRljx1o7w"
    },
    "kernelspec": {
      "name": "python3",
      "display_name": "Python 3"
    }
  },
  "cells": [
    {
      "cell_type": "markdown",
      "metadata": {
        "id": "OySYwSg8P4OG"
      },
      "source": [
        "# Numpy 기초연습문제\n"
      ]
    },
    {
      "cell_type": "code",
      "metadata": {
        "id": "cz0swBiaPwMk"
      },
      "source": [
        "import numpy as np #numpy를 import"
      ],
      "execution_count": null,
      "outputs": []
    },
    {
      "cell_type": "markdown",
      "metadata": {
        "id": "0HMMSSGpP73s"
      },
      "source": [
        "### 1. np.zeros를 이용하여 행이 3, 열이 4인 ndarray를 생성하시오. 이 때 생성된 ndarray의 이름은 a가 되도록 한다.\n"
      ]
    },
    {
      "cell_type": "code",
      "metadata": {
        "id": "JR_3Hb0gP4tB",
        "outputId": "a8a14434-bdae-412c-abdf-a520e9f73333",
        "colab": {
          "base_uri": "https://localhost:8080/",
          "height": 70
        }
      },
      "source": [
        "a = np.zeros((3, 4)) # 3행 4열인 ndarray 생성"
      ],
      "execution_count": null,
      "outputs": [
        {
          "output_type": "execute_result",
          "data": {
            "text/plain": [
              "array([[0., 0., 0., 0.],\n",
              "       [0., 0., 0., 0.],\n",
              "       [0., 0., 0., 0.]])"
            ]
          },
          "metadata": {
            "tags": []
          },
          "execution_count": 2
        }
      ]
    },
    {
      "cell_type": "markdown",
      "metadata": {
        "id": "NNV-9DtEP99K"
      },
      "source": [
        "### 2. 위에서 생성한 ndarray a에 대하여, 다중 for 문을 이용하여 아래와 같은 값을 갖도록 초기화하시오.¶\n",
        "\n",
        "array([[ 1.,  2.,  3.,  4.],\n",
        "       [ 5.,  6.,  7.,  8.],\n",
        "       [ 9., 10., 11., 12.]])"
      ]
    },
    {
      "cell_type": "code",
      "metadata": {
        "id": "z5jiVte5P9DJ",
        "outputId": "b3f34480-d2d0-4575-f9c7-9a39e07fb6df",
        "colab": {
          "base_uri": "https://localhost:8080/",
          "height": 70
        }
      },
      "source": [
        "for i in range(a.shape[0]):\n",
        "    for j in range(a.shape[1]):\n",
        "        a[i, j] = i*4 + j + 1\n",
        "a #for문을 통해 값 지정"
      ],
      "execution_count": null,
      "outputs": [
        {
          "output_type": "execute_result",
          "data": {
            "text/plain": [
              "array([[ 1.,  2.,  3.,  4.],\n",
              "       [ 5.,  6.,  7.,  8.],\n",
              "       [ 9., 10., 11., 12.]])"
            ]
          },
          "metadata": {
            "tags": []
          },
          "execution_count": 3
        }
      ]
    },
    {
      "cell_type": "code",
      "metadata": {
        "id": "MxTaKhWkLCew",
        "outputId": "eef4376b-bc41-49c4-e990-f908d2bdb126",
        "colab": {
          "base_uri": "https://localhost:8080/",
          "height": 70
        }
      },
      "source": [
        "num = 1\n",
        "for i in range(a.shape[0]):\n",
        "    for j in range(a.shape[1]):\n",
        "        a[i, j] =  num\n",
        "        num += 1\n",
        "a"
      ],
      "execution_count": null,
      "outputs": [
        {
          "output_type": "execute_result",
          "data": {
            "text/plain": [
              "array([[ 1.,  2.,  3.,  4.],\n",
              "       [ 5.,  6.,  7.,  8.],\n",
              "       [ 9., 10., 11., 12.]])"
            ]
          },
          "metadata": {
            "tags": []
          },
          "execution_count": 4
        }
      ]
    },
    {
      "cell_type": "markdown",
      "metadata": {
        "id": "s04mEZJHLCBe"
      },
      "source": [
        "### 3. 초기화한 a로부터 값 7을 꺼내도록 인덱싱하시오.\n"
      ]
    },
    {
      "cell_type": "code",
      "metadata": {
        "id": "qQMhqhS2LBdN",
        "outputId": "631530cb-e2ac-4266-c04e-00afab6b7d55",
        "colab": {
          "base_uri": "https://localhost:8080/",
          "height": 34
        }
      },
      "source": [
        "a[1, 2] #value가 7인 위치"
      ],
      "execution_count": null,
      "outputs": [
        {
          "output_type": "execute_result",
          "data": {
            "text/plain": [
              "7.0"
            ]
          },
          "metadata": {
            "tags": []
          },
          "execution_count": 5
        }
      ]
    },
    {
      "cell_type": "markdown",
      "metadata": {
        "id": "oh1uLP0RLHhH"
      },
      "source": [
        "### 4. a에서 아래와 같이 둘째 행을 꺼내도록 인덱싱하시오. 단 차원이 유지되어야 한다.\n",
        "\n",
        "array([[5., 6., 7., 8.]])\n",
        "\n"
      ]
    },
    {
      "cell_type": "code",
      "metadata": {
        "id": "r_EiRtXsLGii",
        "outputId": "1bbf6418-7a38-4aa4-a7ff-18f06ed50920",
        "colab": {
          "base_uri": "https://localhost:8080/",
          "height": 34
        }
      },
      "source": [
        "a.shape #ad의 형태 확인"
      ],
      "execution_count": null,
      "outputs": [
        {
          "output_type": "execute_result",
          "data": {
            "text/plain": [
              "(3, 4)"
            ]
          },
          "metadata": {
            "tags": []
          },
          "execution_count": 6
        }
      ]
    },
    {
      "cell_type": "code",
      "metadata": {
        "id": "PIXvNvUDLJZX",
        "outputId": "816b19c7-b6df-4f00-9476-d83c030fac3e",
        "colab": {
          "base_uri": "https://localhost:8080/",
          "height": 34
        }
      },
      "source": [
        "a[[1], :] # 두번째 행 출력"
      ],
      "execution_count": null,
      "outputs": [
        {
          "output_type": "execute_result",
          "data": {
            "text/plain": [
              "array([[5., 6., 7., 8.]])"
            ]
          },
          "metadata": {
            "tags": []
          },
          "execution_count": 7
        }
      ]
    },
    {
      "cell_type": "markdown",
      "metadata": {
        "id": "IM2Bqpg6LLA1"
      },
      "source": [
        "### 5. a에서 아래와 같이 둘째 열과 셋째 열이 나오도록 인덱싱하시오.¶\n",
        "\n",
        "array([[ 2.,  3.],\n",
        "       [ 6.,  7.],\n",
        "       [10., 11.]])"
      ]
    },
    {
      "cell_type": "code",
      "metadata": {
        "id": "KNG6FFFjLKH1",
        "outputId": "cc40bdd6-f67e-49c5-a12c-692aeaaf49b3",
        "colab": {
          "base_uri": "https://localhost:8080/",
          "height": 70
        }
      },
      "source": [
        "a[:,[0, 2]] #두번째, 세번째 열 출력"
      ],
      "execution_count": null,
      "outputs": [
        {
          "output_type": "execute_result",
          "data": {
            "text/plain": [
              "array([[ 1.,  3.],\n",
              "       [ 5.,  7.],\n",
              "       [ 9., 11.]])"
            ]
          },
          "metadata": {
            "tags": []
          },
          "execution_count": 8
        }
      ]
    },
    {
      "cell_type": "markdown",
      "metadata": {
        "id": "wOOQZVaLLOmA"
      },
      "source": [
        "### 6. 아래와 같이 a에서 6보다 작거나 같은 값들이 나오도록 불리안 인덱싱을 하시오.\n",
        "\n",
        "array([1., 2., 3., 4., 5., 6.])\n"
      ]
    },
    {
      "cell_type": "code",
      "metadata": {
        "id": "0ec19R1dLMzI",
        "outputId": "e05d0486-dff5-476c-ef17-b94e56d96230",
        "colab": {
          "base_uri": "https://localhost:8080/",
          "height": 34
        }
      },
      "source": [
        "result = np.asarray([a[i, j] for i in range(a.shape[0]) for  j in range(a.shape[1]) if a[i, j] <= 6])\n",
        "result\n",
        "#조건에 따라서 출력하도록 출력"
      ],
      "execution_count": null,
      "outputs": [
        {
          "output_type": "execute_result",
          "data": {
            "text/plain": [
              "array([1., 2., 3., 4., 5., 6.])"
            ]
          },
          "metadata": {
            "tags": []
          },
          "execution_count": 10
        }
      ]
    },
    {
      "cell_type": "code",
      "metadata": {
        "id": "Ak5djUcoLN8w",
        "outputId": "5ca6bd3b-0c9b-4ea9-8f15-f92be62c07ac",
        "colab": {
          "base_uri": "https://localhost:8080/",
          "height": 34
        }
      },
      "source": [
        "a[a <= 6]\n"
      ],
      "execution_count": null,
      "outputs": [
        {
          "output_type": "execute_result",
          "data": {
            "text/plain": [
              "array([1., 2., 3., 4., 5., 6.])"
            ]
          },
          "metadata": {
            "tags": []
          },
          "execution_count": 11
        }
      ]
    },
    {
      "cell_type": "markdown",
      "metadata": {
        "id": "T4H77zA1LTHZ"
      },
      "source": [
        "### 7. np.random 패키지를 이용하여 0에서 1사이의 값이 무작위로 생성된, 행이 3 열이 4인 ndarray를 생성하시오. 이 때 생성된 ndarray의 이름은 b가 되도록 한다."
      ]
    },
    {
      "cell_type": "code",
      "metadata": {
        "id": "InZHrN6KLSFA",
        "outputId": "8f44bfe3-61aa-469b-bf1c-384730cef557",
        "colab": {
          "base_uri": "https://localhost:8080/",
          "height": 70
        }
      },
      "source": [
        "b = np.random.random((3, 4)) #radom-> 랜덤 출력\n",
        "b"
      ],
      "execution_count": null,
      "outputs": [
        {
          "output_type": "execute_result",
          "data": {
            "text/plain": [
              "array([[0.29493441, 0.79133895, 0.30471772, 0.25357281],\n",
              "       [0.66674071, 0.70534894, 0.02569723, 0.03827023],\n",
              "       [0.53077157, 0.55427973, 0.31973215, 0.81297162]])"
            ]
          },
          "metadata": {
            "tags": []
          },
          "execution_count": 12
        }
      ]
    },
    {
      "cell_type": "markdown",
      "metadata": {
        "id": "CVwRG-faLVbG"
      },
      "source": [
        "### 8. a와 b의 요소곱을 하여 c에 저장하시오."
      ]
    },
    {
      "cell_type": "code",
      "metadata": {
        "id": "YPf_aYByLUXg",
        "outputId": "11cecb45-2744-4783-f092-3e75e178abe9",
        "colab": {
          "base_uri": "https://localhost:8080/",
          "height": 70
        }
      },
      "source": [
        "c = a * b\n",
        "c"
      ],
      "execution_count": null,
      "outputs": [
        {
          "output_type": "execute_result",
          "data": {
            "text/plain": [
              "array([[0.29493441, 1.5826779 , 0.91415316, 1.01429122],\n",
              "       [3.33370353, 4.23209364, 0.17988059, 0.30616182],\n",
              "       [4.77694412, 5.54279732, 3.51705368, 9.75565942]])"
            ]
          },
          "metadata": {
            "tags": []
          },
          "execution_count": 13
        }
      ]
    },
    {
      "cell_type": "markdown",
      "metadata": {
        "id": "_4Q9J5IyLYPG"
      },
      "source": [
        "### 9. b의 전치행렬을 구하여 d에 저장하시오.\n"
      ]
    },
    {
      "cell_type": "code",
      "metadata": {
        "id": "Eclkx5vpLXl8",
        "outputId": "66b5ec88-855c-4edf-9d5d-946caa26d7d9",
        "colab": {
          "base_uri": "https://localhost:8080/",
          "height": 88
        }
      },
      "source": [
        "d = b.T #전치행렬 x.T\n",
        "d"
      ],
      "execution_count": null,
      "outputs": [
        {
          "output_type": "execute_result",
          "data": {
            "text/plain": [
              "array([[0.29493441, 0.66674071, 0.53077157],\n",
              "       [0.79133895, 0.70534894, 0.55427973],\n",
              "       [0.30471772, 0.02569723, 0.31973215],\n",
              "       [0.25357281, 0.03827023, 0.81297162]])"
            ]
          },
          "metadata": {
            "tags": []
          },
          "execution_count": 14
        }
      ]
    },
    {
      "cell_type": "code",
      "metadata": {
        "id": "UDEOvPu-LZjJ",
        "outputId": "b4d3e613-5dfd-409f-e945-431d7cf47815",
        "colab": {
          "base_uri": "https://localhost:8080/",
          "height": 34
        }
      },
      "source": [
        "d.shape#형태확인"
      ],
      "execution_count": null,
      "outputs": [
        {
          "output_type": "execute_result",
          "data": {
            "text/plain": [
              "(4, 3)"
            ]
          },
          "metadata": {
            "tags": []
          },
          "execution_count": 15
        }
      ]
    },
    {
      "cell_type": "markdown",
      "metadata": {
        "id": "xf6ZUXvkLa0w"
      },
      "source": [
        "### 10. a와 d에 대하여 각 차원의 크기를 출력하시오.\n"
      ]
    },
    {
      "cell_type": "code",
      "metadata": {
        "id": "wr5W73WeLaQE",
        "outputId": "ea0b4940-f640-4039-cd9c-55832c637e03",
        "colab": {
          "base_uri": "https://localhost:8080/",
          "height": 34
        }
      },
      "source": [
        "print(a.shape, d.shape)#차원 출력"
      ],
      "execution_count": null,
      "outputs": [
        {
          "output_type": "stream",
          "text": [
            "(3, 4) (4, 3)\n"
          ],
          "name": "stdout"
        }
      ]
    },
    {
      "cell_type": "markdown",
      "metadata": {
        "id": "XAYLVTEULcoI"
      },
      "source": [
        "### 11. a와 d의 행렬곱을 계산하여 e에 저장하시오.\n"
      ]
    },
    {
      "cell_type": "code",
      "metadata": {
        "id": "0hyxfdxjLb_N",
        "outputId": "081983fb-4acb-40f1-fc56-4e2f53f8b3db",
        "colab": {
          "base_uri": "https://localhost:8080/",
          "height": 70
        }
      },
      "source": [
        "e = a.dot(d) #행렬곱 계산 -> x.dot\n",
        "e"
      ],
      "execution_count": null,
      "outputs": [
        {
          "output_type": "execute_result",
          "data": {
            "text/plain": [
              "array([[ 3.80605669,  2.30761117,  5.85041396],\n",
              "       [10.38431222,  8.05183957, 14.72143425],\n",
              "       [16.96256776, 13.79606796, 23.59245454]])"
            ]
          },
          "metadata": {
            "tags": []
          },
          "execution_count": 17
        }
      ]
    },
    {
      "cell_type": "markdown",
      "metadata": {
        "id": "nJi4Zif5LfMl"
      },
      "source": [
        "### 12. e에 대하여 각 열의 합을 계산하시오.\n"
      ]
    },
    {
      "cell_type": "code",
      "metadata": {
        "id": "dqzjoYNrLeK2",
        "outputId": "389f90fa-d849-48cd-908f-8cd06ac0336f",
        "colab": {
          "base_uri": "https://localhost:8080/",
          "height": 34
        }
      },
      "source": [
        "np.sum(e, axis=1) #각열의 합 계산 np.sum"
      ],
      "execution_count": null,
      "outputs": [
        {
          "output_type": "execute_result",
          "data": {
            "text/plain": [
              "array([11.96408183, 33.15758604, 54.35109026])"
            ]
          },
          "metadata": {
            "tags": []
          },
          "execution_count": 18
        }
      ]
    }
  ]
}
